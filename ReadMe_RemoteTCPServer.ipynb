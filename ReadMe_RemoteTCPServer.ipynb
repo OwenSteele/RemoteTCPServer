{
 "cells": [
  {
   "cell_type": "markdown",
   "metadata": {},
   "source": [
    "# <ins>Remote TCP Server</ins>"
   ]
  },
  {
   "cell_type": "markdown",
   "metadata": {},
   "source": [
    "##### By Owen Steele 2020"
   ]
  },
  {
   "cell_type": "markdown",
   "metadata": {},
   "source": [
    "*This repo works alongside the other repo ./RemoteTCPClient.git*"
   ]
  },
  {
   "cell_type": "markdown",
   "metadata": {},
   "source": [
    "#### <ins>Functionality</ins>"
   ]
  },
  {
   "cell_type": "markdown",
   "metadata": {},
   "source": [
    "This Server runs on local networks only, with multiple clients connected at once.\n",
    "\n",
    "Can select the Port to listen and accept client through.\n",
    "\n",
    "Runs solely as an output and logging application, a client with admin priviliges is required to alter any properties or parameters.\n",
    "\n",
    "SSL encryption enabled, this requires a valid certificate for the server.\n",
    "SSL is optional, can run without if a certifate is not available or obtainable."
   ]
  },
  {
   "cell_type": "markdown",
   "metadata": {},
   "source": [
    "### Setup and Running"
   ]
  },
  {
   "cell_type": "markdown",
   "metadata": {},
   "source": [
    "##### .NET 5.0 runtime is required to execute.\n",
    "Can be downloaded from MDN here: https://dotnet.microsoft.com/download\n",
    "Select .NET [core/framework] runtime option and install\n",
    "\n",
    "<ins>Simple setup through GitHub</ins>"
   ]
  },
  {
   "cell_type": "code",
   "execution_count": null,
   "metadata": {},
   "outputs": [],
   "source": [
    "1. Download this repo as a '.zip' file, and extract once downloaded.\n",
    "2. Navigate to /RemoteTCPServer/bin/Debug/net5.\n",
    "3. Run RemoteTCPServer.exe"
   ]
  },
  {
   "cell_type": "markdown",
   "metadata": {},
   "source": [
    "**Can also be built and run with Visual Studio**\n",
    "\n",
    "Ensure that your machine has the .NET 5.0 SDK installed"
   ]
  },
  {
   "cell_type": "markdown",
   "metadata": {},
   "source": [
    "<ins>Simple setup through terminal (windows)</ins>"
   ]
  },
  {
   "cell_type": "code",
   "execution_count": null,
   "metadata": {},
   "outputs": [],
   "source": [
    "1. cd [your chosen dir]\n",
    "2. mkdir RemoteTCPServer\n",
    "3. cd RemoteTCPServer \n",
    "4. git init\n",
    "5. git clone https://github.com/OwenSteele/RemoteTCPServer.git\n",
    "6. cd /RemoteTCPServer/bin/Debug/net5.0/\n",
    "7. ./RemoteTCPServer.exe"
   ]
  },
  {
   "cell_type": "markdown",
   "metadata": {},
   "source": [
    "*NOTE: step 5 requires the necessary access privileges*"
   ]
  },
  {
   "cell_type": "markdown",
   "metadata": {},
   "source": [
    "### Creating the server"
   ]
  },
  {
   "cell_type": "markdown",
   "metadata": {},
   "source": [
    "The server will ask you for initial input:\n",
    "\n",
    "* Enter the port number: (0 to 65535)\n",
    "* Choose to enable SSL encryption:\n",
    "    If you enable SSL, you will be prompted to provide the path and file name of the correct certificate.\n",
    "    You will then be promted to set the 'key' or server name:\n",
    "    \n",
    "The Server will then obtain it's external IP and print its metadata.\n",
    "**Clients require the localIP and the port number to connect.**\n",
    "**Clients are not required to enable SSL to connect - however if enabled, clients also require the server name (key) set.**"
   ]
  },
  {
   "cell_type": "markdown",
   "metadata": {},
   "source": [
    "### Stucture\n"
   ]
  },
  {
   "cell_type": "code",
   "execution_count": null,
   "metadata": {},
   "outputs": [],
   "source": [
    "private static void CallBack(IAsyncResult ar);"
   ]
  },
  {
   "cell_type": "markdown",
   "metadata": {},
   "source": [
    "Asyncronous CallBack method are used to handle multiple clients"
   ]
  },
  {
   "cell_type": "markdown",
   "metadata": {},
   "source": [
    "### Clients"
   ]
  },
  {
   "cell_type": "markdown",
   "metadata": {},
   "source": [
    "**Connect:** On connectiong a client's metadata is stored as it's key and stored in the connected clients list.\n",
    "\n",
    "**Commands:** Client have a range of functions that can be called through requests, the server stores all of the commands.\n",
    "\n",
    "**Logging:** Client requests to the server are logged in Yellow.\n",
    "             Server login outputs are logged in Cyan.\n",
    "             Server replies to the client are logged in DarkCyan.\n",
    "\n",
    "**Users:** Client can log in to users, this data is solely held by the server.\n",
    "           When a client calls a user only command, the server will process whether the client hold the necessary privileges.\n",
    "    \n",
    "**Disconnect:** If a client disconnects, this is logged in white, the client is removed from the list of connected clients.\n",
    "\n",
    "<ins> **User commands**</ins>\n",
    "\n",
    "*after a successful login attempt, clients have a speficied user bound to them by the server*\n",
    "\n",
    "**File Transfer:** Users can send and retrieve files from the server (requires admin dir set first).\n",
    "\n",
    "**Messaging:** Users can directly message one another, with the server acting as an intermediary.\n",
    "\n",
    "**Security:** Users can set their visiblity and security to three states, 'private', 'prompt on request' and auto accept'.\n",
    "              Private users cannot recieve or send anything to other clients, and cannot be seen by other clients.\n",
    "              Prompted users, must accept a request from another client before recieving data, does not apply to sending data.\n",
    "              Auto accepting users, automatically accept any data sent to them.\n"
   ]
  }
 ],
 "metadata": {
  "kernelspec": {
   "display_name": ".NET (C#)",
   "language": "C#",
   "name": ".net-csharp"
  },
  "language_info": {
   "file_extension": ".cs",
   "mimetype": "text/x-csharp",
   "name": "C#",
   "pygments_lexer": "csharp",
   "version": "8.0"
  }
 },
 "nbformat": 4,
 "nbformat_minor": 4
}
